{
 "cells": [
  {
   "cell_type": "markdown",
   "id": "205c73a5-e589-4f63-af4d-9f6e615fddd8",
   "metadata": {
    "tags": []
   },
   "source": [
    "# Seurat - Guided Clustering Tutorial"
   ]
  },
  {
   "cell_type": "markdown",
   "id": "524000d7-7c39-44fb-8d76-10e43ad65186",
   "metadata": {},
   "source": [
    "#### The original version of this [guilded clustering tutorial](https://satijalab.org/seurat/articles/pbmc3k_tutorial.html) is available on the Satija Lab website for [Seurat](https://satijalab.org/seurat/index.html)."
   ]
  },
  {
   "cell_type": "code",
   "execution_count": null,
   "id": "6d56b1d4-2c9b-4dc1-a39f-f85fa7216a5b",
   "metadata": {},
   "outputs": [],
   "source": [
    "data_folder <- \"data\"\n",
    "output_folder <- \"write\"\n",
    "\n",
    "if (file.exists(data_folder)) {\n",
    " cat(\"The data folder already exists.\\n\")\n",
    "} else {\n",
    " dir.create(data_folder)\n",
    "}\n",
    "\n",
    "if (file.exists(output_folder)) {\n",
    " cat(\"The output folder already exists.\")\n",
    "} else {\n",
    " dir.create(output_folder)\n",
    "}"
   ]
  },
  {
   "cell_type": "code",
   "execution_count": null,
   "id": "98e63ffd-1db8-49cf-bf00-77db0ea9b87c",
   "metadata": {},
   "outputs": [],
   "source": [
    "url <- \"http://cf.10xgenomics.com/samples/cell-exp/1.1.0/pbmc3k/pbmc3k_filtered_gene_bc_matrices.tar.gz\"\n",
    "dest_file <- \"pbmc3k_filtered_gene_bc_matrices.tar.gz\"\n",
    "dest_path <- sprintf(\"%s/%s\", data_folder, dest_file)\n",
    "cat(dest_path)\n",
    "\n",
    "if (file.exists(dest_path)) {\n",
    "    cat(\"\\nData already downloaded\")\n",
    "} else {\n",
    "    cat(\"\\nDownloading data\")\n",
    "    download.file(url, dest_path)\n",
    "}\n",
    "untar(dest_path, exdir=data_folder)"
   ]
  },
  {
   "cell_type": "markdown",
   "id": "f8389fba-7150-4e88-87b5-302ee2c79e75",
   "metadata": {},
   "source": [
    "# Setup the Seurat Object\n",
    "\n",
    "For this tutorial, we will be analyzing the a dataset of Peripheral Blood Mononuclear Cells (PBMC) freely available from 10X Genomics. There are 2,700 single cells that were sequenced on the Illumina NextSeq 500. The raw data can be found here.\n",
    "\n",
    "We start by reading in the data. The [Read10X()](https://satijalab.org/seurat/reference/Read10X.html) function reads in the output of the [cellranger](https://support.10xgenomics.com/single-cell-gene-expression/software/pipelines/latest/what-is-cell-ranger) pipeline from 10X, returning a unique molecular identified (UMI) count matrix. The values in this matrix represent the number of molecules for each feature (i.e. gene; row) that are detected in each cell (column).\n",
    "\n",
    "We next use the count matrix to create a Seurat object. The object serves as a container that contains both data (like the count matrix) and analysis (like PCA, or clustering results) for a single-cell dataset. For a technical discussion of the Seurat object structure, check out our [GitHub Wiki](https://github.com/satijalab/seurat/wiki). For example, the count matrix is stored in `pbmc[[\"RNA\"]]@counts`."
   ]
  },
  {
   "cell_type": "code",
   "execution_count": null,
   "id": "f0c0a001-711a-46d5-83ea-83ae6548d73e",
   "metadata": {},
   "outputs": [],
   "source": [
    "library(dplyr)\n",
    "library(Seurat)\n",
    "library(patchwork)\n",
    "\n",
    "# Load the PBMC dataset\n",
    "mtx_dir <- sprintf(\"%s/filtered_gene_bc_matrices/hg19/\", data_folder)\n",
    "pbmc.data <- Read10X(data.dir = mtx_dir)\n",
    "# Initialize the Seurat object with the raw (non-normalized data).\n",
    "pbmc <- CreateSeuratObject(counts = pbmc.data, project = \"pbmc3k\", min.cells = 3, min.features = 200)\n",
    "pbmc"
   ]
  },
  {
   "cell_type": "markdown",
   "id": "68e228c4-0d14-4ffe-ac4b-046382520a27",
   "metadata": {},
   "source": [
    "---\n",
    "\n",
    "#### What does data in a count matrix look like?"
   ]
  },
  {
   "cell_type": "code",
   "execution_count": null,
   "id": "a802fafe-f686-44a8-b19b-92529ee6e727",
   "metadata": {},
   "outputs": [],
   "source": [
    "# Lets examine a few genes in the first thirty cells\n",
    "pbmc.data[c(\"CD3D\", \"TCL1A\", \"MS4A1\"), 1:30]"
   ]
  },
  {
   "cell_type": "markdown",
   "id": "cc85f134-2abe-480c-ac0c-41f5bb6c33bb",
   "metadata": {},
   "source": [
    "The `.` values in the matrix represent 0s (no molecules detected). Since most values in an scRNA-seq matrix are 0, Seurat uses a sparse-matrix representation whenever possible. This results in significant memory and speed savings for Drop-seq/inDrop/10x data."
   ]
  },
  {
   "cell_type": "code",
   "execution_count": null,
   "id": "cd7ec5ce-7b83-4e24-a146-2ed19162c702",
   "metadata": {},
   "outputs": [],
   "source": [
    "dense.size <- object.size(as.matrix(pbmc.data))\n",
    "dense.size"
   ]
  },
  {
   "cell_type": "code",
   "execution_count": null,
   "id": "6777fc56-b248-4a1e-b141-06b1366a14d5",
   "metadata": {},
   "outputs": [],
   "source": [
    "sparse.size <- object.size(pbmc.data)\n",
    "sparse.size"
   ]
  },
  {
   "cell_type": "code",
   "execution_count": null,
   "id": "7f749d7c-5429-4546-8722-8eb967c91670",
   "metadata": {},
   "outputs": [],
   "source": [
    "dense.size/sparse.size"
   ]
  },
  {
   "cell_type": "markdown",
   "id": "4158b218-048b-4d0e-a80f-ac98d9fe419a",
   "metadata": {},
   "source": [
    "---"
   ]
  },
  {
   "cell_type": "markdown",
   "id": "35945c71-7c0c-4ebf-a689-c6f81dafd655",
   "metadata": {},
   "source": [
    "# Standard pre-processing workflow\n",
    "\n",
    "The steps below encompass the standard pre-processing workflow for scRNA-seq data in Seurat. These represent the selection and filtration of cells based on QC metrics, data normalization and scaling, and the detection of highly variable features."
   ]
  },
  {
   "cell_type": "markdown",
   "id": "e6a9f40b-a879-4480-b7e4-a963580ea112",
   "metadata": {},
   "source": [
    "# QC and selecting cells for further analysis\n",
    "\n",
    "Seurat allows you to easily explore QC metrics and filter cells based on any user-defined criteria. A few QC metrics commonly used by the community include\n",
    "\n",
    "- The number of unique genes detected in each cell. \n",
    "    - Low-quality cells or empty droplets will often have very few genes\n",
    "    - Cell doublets or multiplets may exhibit an aberrantly high gene count\n",
    "- Similarly, the total number of molecules detected within a cell (correlates strongly with unique genes).\n",
    "- The percentage of reads that map to the mitochondrial genome.\n",
    "    - Low-quality / dying cells often exhibit extensive mitochondrial contamination\n",
    "    - We calculate mitochondrial QC metrics with the [PercentageFeatureSet()](https://satijalab.org/seurat/reference/PercentageFeatureSet.html) function, which calculates the percentage of counts originating from a set of features\n",
    "    - We use the set of all genes starting with `MT-` as a set of mitochondrial genes"
   ]
  },
  {
   "cell_type": "code",
   "execution_count": null,
   "id": "15a96b55-7624-4444-b3fa-caa0406118ef",
   "metadata": {},
   "outputs": [],
   "source": [
    "# The [[ operator can add columns to object metadata. This is a great place to stash QC stats\n",
    "pbmc[[\"percent.mt\"]] <- PercentageFeatureSet(pbmc, pattern = \"^MT-\")"
   ]
  },
  {
   "cell_type": "markdown",
   "id": "cca1029f-c0c5-41c9-808a-ec378c438719",
   "metadata": {},
   "source": [
    "---\n",
    "#### Where are QC metrics stored in Seurat?"
   ]
  },
  {
   "cell_type": "markdown",
   "id": "62ea69fa-9603-425f-a48a-90397b27d9a5",
   "metadata": {},
   "source": [
    "- The number of unique genes and total molecules are automatically calculated during [CreateSeuratObject()](https://mojaveazure.github.io/seurat-object/reference/CreateSeuratObject.html)\n",
    "    - You can find them stored in the object meta data"
   ]
  },
  {
   "cell_type": "code",
   "execution_count": null,
   "id": "2f4b1b42-9905-4214-b4a7-ae31b26b5a5a",
   "metadata": {},
   "outputs": [],
   "source": [
    "# Show QC metrics for the first 5 cells\n",
    "head(pbmc@meta.data, 5)"
   ]
  },
  {
   "cell_type": "markdown",
   "id": "50f03112-6966-4e32-b10e-39e4e822b67b",
   "metadata": {},
   "source": [
    "---"
   ]
  },
  {
   "cell_type": "markdown",
   "id": "75cfd711-3c54-4b30-b12a-3749f2360d08",
   "metadata": {},
   "source": [
    "In the example below, we visualize QC metrics, and use these to filter cells.\n",
    "\n",
    "- We filter cells that have unique feature counts over 2,500 or less than 200\n",
    "- We filter cells that have >5% mitochondrial counts"
   ]
  },
  {
   "cell_type": "code",
   "execution_count": null,
   "id": "073c54b2-55d8-4a15-b5dc-a489cea2b320",
   "metadata": {},
   "outputs": [],
   "source": [
    "# Visualize QC metrics as a violin plot\n",
    "VlnPlot(pbmc, features = c(\"nFeature_RNA\", \"nCount_RNA\", \"percent.mt\"), ncol = 3)"
   ]
  },
  {
   "cell_type": "code",
   "execution_count": null,
   "id": "6d6c1d85-a2bc-464c-91b3-7cec9656bc0b",
   "metadata": {},
   "outputs": [],
   "source": [
    "# FeatureScatter is typically used to visualize feature-feature relationships, but can be used\n",
    "# for anything calculated by the object, i.e. columns in object metadata, PC scores etc.\n",
    "\n",
    "plot1 <- FeatureScatter(pbmc, feature1 = \"nCount_RNA\", feature2 = \"percent.mt\")\n",
    "plot2 <- FeatureScatter(pbmc, feature1 = \"nCount_RNA\", feature2 = \"nFeature_RNA\")\n",
    "plot1 + plot2"
   ]
  },
  {
   "cell_type": "code",
   "execution_count": null,
   "id": "a73264dd-d1bf-49d0-b588-59b033959a6e",
   "metadata": {},
   "outputs": [],
   "source": [
    "pbmc <- subset(pbmc, subset = nFeature_RNA > 200 & nFeature_RNA < 2500 & percent.mt < 5)"
   ]
  },
  {
   "cell_type": "markdown",
   "id": "c0036a94-d6ef-4c69-884a-ed39abcc2b99",
   "metadata": {},
   "source": [
    "# Normalize the data\n",
    "\n",
    "After removing unwanted cells from the dataset, the next step is to normalize the data. By default, we employ a global-scaling normalization method “LogNormalize” that normalizes the feature expression measurements for each cell by the total expression, multiplies this by a scale factor (10,000 by default), and log-transforms the result. Normalized values are stored in `pbmc[[\"RNA\"]]@data`."
   ]
  },
  {
   "cell_type": "code",
   "execution_count": null,
   "id": "d15ed934-a89c-4e43-a3aa-92be223304ec",
   "metadata": {},
   "outputs": [],
   "source": [
    "pbmc <- NormalizeData(pbmc, normalization.method = \"LogNormalize\", scale.factor = 10000)"
   ]
  },
  {
   "cell_type": "markdown",
   "id": "87d0ac2a-383d-42f3-a11b-48f9fdd61f80",
   "metadata": {},
   "source": [
    "For clarity, in this previous line of code (and in future commands), we provide the default values for certain parameters in the function call. However, this isn’t required and the same behavior can be achieved with:"
   ]
  },
  {
   "cell_type": "code",
   "execution_count": null,
   "id": "f267af33-685b-402c-b657-dbfed9673901",
   "metadata": {},
   "outputs": [],
   "source": [
    "pbmc <- NormalizeData(pbmc)"
   ]
  },
  {
   "cell_type": "markdown",
   "id": "8dbbaa8c-9c67-4650-891b-a52bc70edb80",
   "metadata": {},
   "source": [
    "# Identification of highly variable features (feature selection)\n",
    "\n",
    "We next calculate a subset of features that exhibit high cell-to-cell variation in the dataset (i.e, they are highly expressed in some cells, and lowly expressed in others). We and [others](https://www.nature.com/articles/nmeth.2645) have found that focusing on these genes in downstream analysis helps to highlight biological signal in single-cell datasets.\n",
    "\n",
    "Our procedure in Seurat is described in detail [here](https://doi.org/10.1016/j.cell.2019.05.031), and improves on previous versions by directly modeling the mean-variance relationship inherent in single-cell data, and is implemented in the [FindVariableFeatures()](https://satijalab.org/seurat/reference/FindVariableFeatures.html) function. By default, we return 2,000 features per dataset. These will be used in downstream analysis, like PCA."
   ]
  },
  {
   "cell_type": "code",
   "execution_count": null,
   "id": "c713b537-42ed-46d3-9ca7-a55d5a214268",
   "metadata": {},
   "outputs": [],
   "source": [
    "pbmc <- FindVariableFeatures(pbmc, selection.method = \"vst\", nfeatures = 2000)\n",
    "\n",
    "# Identify the 10 most highly variable genes\n",
    "top10 <- head(VariableFeatures(pbmc), 10)\n",
    "\n",
    "# plot variable features with and without labels\n",
    "plot1 <- VariableFeaturePlot(pbmc)\n",
    "plot2 <- LabelPoints(plot = plot1, points = top10, repel = FALSE) # Seurat tutorial was set to TRUE but FALSE seems to work\n",
    "plot1 + plot2"
   ]
  },
  {
   "cell_type": "markdown",
   "id": "f24dffd1-074a-4693-ad5d-1bdedcda00aa",
   "metadata": {},
   "source": [
    "# Scaling the data\n",
    "\n",
    "Next, we apply a linear transformation (‘scaling’) that is a standard pre-processing step prior to dimensional reduction techniques like PCA. The [ScaleData()](https://satijalab.org/seurat/reference/ScaleData.html) function:\n",
    "- Shifts the expression of each gene, so that the mean expression across cells is 0\n",
    "- Scales the expression of each gene, so that the variance across cells is 1 \n",
    "    - This step gives equal weight in downstream analyses, so that highly-expressed genes do not dominate\n",
    "- The results of this are stored in `pbmc[[\"RNA\"]]@scale.data`\n"
   ]
  },
  {
   "cell_type": "code",
   "execution_count": null,
   "id": "b170ed02-0f6b-4d08-aec3-8c7bf01166f4",
   "metadata": {},
   "outputs": [],
   "source": [
    "all.genes <- rownames(pbmc)\n",
    "pbmc <- ScaleData(pbmc, features = all.genes)"
   ]
  },
  {
   "cell_type": "markdown",
   "id": "e1f94715-fab5-4b37-8f74-f38bc07b8450",
   "metadata": {},
   "source": [
    "---\n",
    "#### This step takes too long! Can I make it faster?\n",
    "\n",
    "Scaling is an essential step in the Seurat workflow, but only on genes that will be used as input to PCA. Therefore, the default in [ScaleData()](https://satijalab.org/seurat/reference/ScaleData.html) is only to perform scaling on the previously identified variable features (2,000 by default). To do this, omit the features argument in the previous function call, i.e.\n"
   ]
  },
  {
   "cell_type": "code",
   "execution_count": null,
   "id": "7d37ee30-87c7-4789-b8c7-48bee8a6be74",
   "metadata": {},
   "outputs": [],
   "source": [
    "pbmc <- ScaleData(pbmc)"
   ]
  },
  {
   "cell_type": "markdown",
   "id": "490e685d-3c82-4c4e-8bf0-ce62d0a98b14",
   "metadata": {},
   "source": [
    "Your PCA and clustering results will be unaffected. However, Seurat heatmaps (produced as shown below with [DoHeatmap()](https://satijalab.org/seurat/reference/DoHeatmap.html)) require genes in the heatmap to be scaled, to make sure highly-expressed genes don’t dominate the heatmap. To make sure we don’t leave any genes out of the heatmap later, we are scaling all genes in this tutorial. "
   ]
  },
  {
   "cell_type": "markdown",
   "id": "9af5c452-308d-4c4a-af9e-bd4b8a3904f1",
   "metadata": {},
   "source": [
    "#### How can I remove unwanted sources of variation, as in Seurat v2?\n",
    "\n",
    "In `Seurat v2` we also use the [ScaleData()](https://satijalab.org/seurat/reference/ScaleData.html) function to remove unwanted sources of variation from a single-cell dataset. For example, we could ‘regress out’ heterogeneity associated with (for example) cell cycle stage, or mitochondrial contamination. These features are still supported in [ScaleData()](https://satijalab.org/seurat/reference/ScaleData.html) in `Seurat v3`, i.e.:"
   ]
  },
  {
   "cell_type": "code",
   "execution_count": null,
   "id": "7975d870-d57c-4ce0-a585-ad893a0ad5e6",
   "metadata": {},
   "outputs": [],
   "source": [
    "pbmc <- ScaleData(pbmc, vars.to.regress = \"percent.mt\")"
   ]
  },
  {
   "cell_type": "markdown",
   "id": "1125c8de-ba5a-4b34-b411-d97985d8a456",
   "metadata": {},
   "source": [
    "However, particularly for advanced users who would like to use this functionality, we strongly recommend the use of our new normalization workflow, [SCTransform()](https://satijalab.org/seurat/reference/SCTransform.html). The method is described in our [paper](https://genomebiology.biomedcentral.com/articles/10.1186/s13059-019-1874-1), with a separate vignette using Seurat v3 [here](https://satijalab.org/seurat/articles/sctransform_vignette.html). As with [ScaleData()](https://satijalab.org/seurat/reference/ScaleData.html), the function [SCTransform()](https://satijalab.org/seurat/reference/SCTransform.html) also includes a `vars.to.regress` parameter. "
   ]
  },
  {
   "cell_type": "markdown",
   "id": "ff253658-9884-4fd9-8f2d-517970a26d8a",
   "metadata": {},
   "source": [
    "# Perform linear dimensional reduction\n",
    "\n",
    "Next we perform PCA on the scaled data. By default, only the previously determined variable features are used as input, but can be defined using features argument if you wish to choose a different subset."
   ]
  },
  {
   "cell_type": "code",
   "execution_count": null,
   "id": "a19a2bed-b647-45cd-993e-cc47c9918b82",
   "metadata": {},
   "outputs": [],
   "source": [
    "pbmc <- RunPCA(pbmc, features = VariableFeatures(object = pbmc))"
   ]
  },
  {
   "cell_type": "markdown",
   "id": "cf8d07fe-23b6-40d0-9ffe-bdd4377c8718",
   "metadata": {},
   "source": [
    "Seurat provides several useful ways of visualizing both cells and features that define the PCA, including [VizDimReduction()](https://www.rdocumentation.org/packages/Seurat/versions/2.3.4/topics/VizDimReduction), [DimPlot()](https://satijalab.org/seurat/reference/DimPlot.html), and [DimHeatmap()](https://satijalab.org/seurat/reference/DimHeatmap.html)"
   ]
  },
  {
   "cell_type": "code",
   "execution_count": null,
   "id": "db931e8b-bf24-491e-aac5-ff72df06e63c",
   "metadata": {},
   "outputs": [],
   "source": [
    "# Examine and visualize PCA results a few different ways\n",
    "print(pbmc[[\"pca\"]], dims = 1:5, nfeatures = 5)"
   ]
  },
  {
   "cell_type": "code",
   "execution_count": null,
   "id": "8c3bcd7e-c656-400f-82c5-4ce6bd4b9e76",
   "metadata": {},
   "outputs": [],
   "source": [
    "VizDimLoadings(pbmc, dims = 1:2, reduction = \"pca\")"
   ]
  },
  {
   "cell_type": "code",
   "execution_count": null,
   "id": "e89765e6-9447-440b-9feb-0f37ec5070c7",
   "metadata": {},
   "outputs": [],
   "source": [
    "DimPlot(pbmc, reduction = \"pca\")"
   ]
  },
  {
   "cell_type": "markdown",
   "id": "cbb3411c-3a58-4729-a82e-ce9591e409c8",
   "metadata": {},
   "source": [
    "In particular [DimHeatmap()](https://satijalab.org/seurat/reference/DimHeatmap.html) allows for easy exploration of the primary sources of heterogeneity in a dataset, and can be useful when trying to decide which PCs to include for further downstream analyses. Both cells and features are ordered according to their PCA scores. Setting `cells` to a number plots the ‘extreme’ cells on both ends of the spectrum, which dramatically speeds plotting for large datasets. Though clearly a supervised analysis, we find this to be a valuable tool for exploring correlated feature sets."
   ]
  },
  {
   "cell_type": "code",
   "execution_count": null,
   "id": "be321e37-e8dd-421b-84b2-40440fff9864",
   "metadata": {},
   "outputs": [],
   "source": [
    "DimHeatmap(pbmc, dims = 1, cells = 500, balanced = TRUE)"
   ]
  },
  {
   "cell_type": "code",
   "execution_count": null,
   "id": "7d98d112-80ba-401c-9511-f79afbf771a7",
   "metadata": {},
   "outputs": [],
   "source": [
    "DimHeatmap(pbmc, dims = 1:15, cells = 500, balanced = TRUE)"
   ]
  },
  {
   "cell_type": "markdown",
   "id": "0962d8b1-7b5a-4fae-a31c-433d2ba8edfe",
   "metadata": {},
   "source": [
    "# Determine the ‘dimensionality’ of the dataset\n",
    "\n",
    "To overcome the extensive technical noise in any single feature for scRNA-seq data, Seurat clusters cells based on their PCA scores, with each PC essentially representing a ‘metafeature’ that combines information across a correlated feature set. The top principal components therefore represent a robust compression of the dataset. However, how many components should we choose to include? 10? 20? 100?\n",
    "\n",
    "In [Macosko et al](http://www.cell.com/abstract/S0092-8674(15)00549-8), we implemented a resampling test inspired by the JackStraw procedure. We randomly permute a subset of the data (1% by default) and rerun PCA, constructing a ‘null distribution’ of feature scores, and repeat this procedure. We identify ‘significant’ PCs as those who have a strong enrichment of low p-value features."
   ]
  },
  {
   "cell_type": "code",
   "execution_count": null,
   "id": "24deaa03-0347-48bf-81a0-0759210f56b9",
   "metadata": {},
   "outputs": [],
   "source": [
    "# NOTE: This process can take a long time for big datasets, comment out for expediency. More\n",
    "# approximate techniques such as those implemented in ElbowPlot() can be used to reduce\n",
    "# computation time\n",
    "pbmc <- JackStraw(pbmc, num.replicate = 100)\n",
    "pbmc <- ScoreJackStraw(pbmc, dims = 1:20)"
   ]
  },
  {
   "cell_type": "markdown",
   "id": "9876b49f-d92c-4d1e-8a5a-8cf6a56b411d",
   "metadata": {},
   "source": [
    "The [JackStrawPlot()](https://satijalab.org/seurat/reference/JackStrawPlot.html) function provides a visualization tool for comparing the distribution of p-values for each PC with a uniform distribution (dashed line). ‘Significant’ PCs will show a strong enrichment of features with low p-values (solid curve above the dashed line). In this case it appears that there is a sharp drop-off in significance after the first 10-12 PCs."
   ]
  },
  {
   "cell_type": "code",
   "execution_count": null,
   "id": "3bd7e510-ed4a-46c6-a439-2706c1df7549",
   "metadata": {},
   "outputs": [],
   "source": [
    "JackStrawPlot(pbmc, dims = 1:15)"
   ]
  },
  {
   "cell_type": "markdown",
   "id": "7a783351-edbe-4db5-87c9-aca92f975878",
   "metadata": {},
   "source": [
    "An alternative heuristic method generates an ‘Elbow plot’: a ranking of principle components based on the percentage of variance explained by each one ([ElbowPlot()](https://satijalab.org/seurat/reference/ElbowPlot.html) function). In this example, we can observe an ‘elbow’ around PC9-10, suggesting that the majority of true signal is captured in the first 10 PCs."
   ]
  },
  {
   "cell_type": "code",
   "execution_count": null,
   "id": "e8285584-40b8-4e6d-a341-c994634edcab",
   "metadata": {},
   "outputs": [],
   "source": [
    "ElbowPlot(pbmc)"
   ]
  },
  {
   "cell_type": "markdown",
   "id": "853d3003-6318-44cf-96a8-c4042dbb7c25",
   "metadata": {},
   "source": [
    "Identifying the true dimensionality of a dataset – can be challenging/uncertain for the user. We therefore suggest these three approaches to consider. The first is more supervised, exploring PCs to determine relevant sources of heterogeneity, and could be used in conjunction with GSEA for example. The second implements a statistical test based on a random null model, but is time-consuming for large datasets, and may not return a clear PC cutoff. The third is a heuristic that is commonly used, and can be calculated instantly. In this example, all three approaches yielded similar results, but we might have been justified in choosing anything between PC 7-12 as a cutoff.\n",
    "\n",
    "We chose 10 here, but encourage users to consider the following:\n",
    "\n",
    "- Dendritic cell and NK aficionados may recognize that genes strongly associated with PCs 12 and 13 define rare immune subsets (i.e. MZB1 is a marker for plasmacytoid DCs). However, these groups are so rare, they are difficult to distinguish from background noise for a dataset of this size without prior knowledge.\n",
    "- We encourage users to repeat downstream analyses with a different number of PCs (10, 15, or even 50!). As you will observe, the results often do not differ dramatically.\n",
    "- We advise users to err on the higher side when choosing this parameter. For example, performing downstream analyses with only 5 PCs does significantly and adversely affect results."
   ]
  },
  {
   "cell_type": "markdown",
   "id": "d7efa1df-8e67-48cf-87c5-0191a515b787",
   "metadata": {},
   "source": [
    "# Cluster the cells\n",
    "\n",
    "Seurat v3 applies a graph-based clustering approach, building upon initial strategies in ([Macosko et al](http://www.cell.com/abstract/S0092-8674(15)00549-8)). Importantly, the distance metric which drives the clustering analysis (based on previously identified PCs) remains the same. However, our approach to partitioning the cellular distance matrix into clusters has dramatically improved. Our approach was heavily inspired by recent manuscripts which applied graph-based clustering approaches to scRNA-seq data [[SNN-Cliq, Xu and Su, Bioinformatics, 2015]](http://bioinformatics.oxfordjournals.org/content/early/2015/02/10/bioinformatics.btv088.abstract) and CyTOF data [[PhenoGraph, Levine et al., Cell, 2015]](http://www.ncbi.nlm.nih.gov/pubmed/26095251). Briefly, these methods embed cells in a graph structure - for example a K-nearest neighbor (KNN) graph, with edges drawn between cells with similar feature expression patterns, and then attempt to partition this graph into highly interconnected ‘quasi-cliques’ or ‘communities’.\n",
    "\n",
    "As in PhenoGraph, we first construct a KNN graph based on the euclidean distance in PCA space, and refine the edge weights between any two cells based on the shared overlap in their local neighborhoods (Jaccard similarity). This step is performed using the [FindNeighbors()](https://satijalab.org/seurat/reference/FindNeighbors.html) function, and takes as input the previously defined dimensionality of the dataset (first 10 PCs).\n",
    "\n",
    "To cluster the cells, we next apply modularity optimization techniques such as the Louvain algorithm (default) or SLM [[SLM, Blondel et al., Journal of Statistical Mechanics]](http://dx.doi.org/10.1088/1742-5468/2008/10/P10008), to iteratively group cells together, with the goal of optimizing the standard modularity function. The [FindClusters()](https://satijalab.org/seurat/reference/FindClusters.html) function implements this procedure, and contains a resolution parameter that sets the ‘granularity’ of the downstream clustering, with increased values leading to a greater number of clusters. We find that setting this parameter between 0.4-1.2 typically returns good results for single-cell datasets of around 3K cells. Optimal resolution often increases for larger datasets. The clusters can be found using the [Idents()](https://mojaveazure.github.io/seurat-object/reference/Idents.html) function."
   ]
  },
  {
   "cell_type": "code",
   "execution_count": null,
   "id": "b5afbfda-6418-4764-8d9d-ea615582e023",
   "metadata": {},
   "outputs": [],
   "source": [
    "pbmc <- FindNeighbors(pbmc, dims = 1:10)\n",
    "pbmc <- FindClusters(pbmc, resolution = 0.5)"
   ]
  },
  {
   "cell_type": "code",
   "execution_count": null,
   "id": "b325ee5d-a822-4aa5-b398-175c3cd7b55a",
   "metadata": {},
   "outputs": [],
   "source": [
    "# Look at cluster IDs of the first 5 cells\n",
    "head(Idents(pbmc), 5)"
   ]
  },
  {
   "cell_type": "markdown",
   "id": "8ea4d4f4-c2b7-4e16-9298-59ef53b7a183",
   "metadata": {},
   "source": [
    "# Run non-linear dimensional reduction (UMAP/tSNE)\n",
    "\n",
    "Seurat offers several non-linear dimensional reduction techniques, such as tSNE and UMAP, to visualize and explore these datasets. The goal of these algorithms is to learn the underlying manifold of the data in order to place similar cells together in low-dimensional space. Cells within the graph-based clusters determined above should co-localize on these dimension reduction plots. As input to the UMAP and tSNE, we suggest using the same PCs as input to the clustering analysis."
   ]
  },
  {
   "cell_type": "code",
   "execution_count": null,
   "id": "962773c2-cfd6-4cfd-b913-45b1e2aa94db",
   "metadata": {},
   "outputs": [],
   "source": [
    "# If you haven't installed UMAP, you can do so via reticulate::py_install(packages =\n",
    "# 'umap-learn')\n",
    "pbmc <- RunUMAP(pbmc, dims = 1:10)"
   ]
  },
  {
   "cell_type": "code",
   "execution_count": null,
   "id": "13292c60-20ff-4e28-919e-bcdd475c13f6",
   "metadata": {},
   "outputs": [],
   "source": [
    "# note that you can set `label = TRUE` or use the LabelClusters function to help label\n",
    "# individual clusters\n",
    "DimPlot(pbmc, reduction = \"umap\")"
   ]
  },
  {
   "cell_type": "markdown",
   "id": "a979e175-9589-4987-b08a-5e035109e9f5",
   "metadata": {},
   "source": [
    "#### You can save the object at this point so that it can easily be loaded back in without having to rerun the computationally intensive steps performed above, or easily shared with collaborators."
   ]
  },
  {
   "cell_type": "code",
   "execution_count": null,
   "id": "64c28f00-89cd-4c13-9efc-b8ee4ddec922",
   "metadata": {},
   "outputs": [],
   "source": [
    "output_file <- sprintf(\"%s/seurat_pbmc_tutorial.rds\", output_folder)\n",
    "saveRDS(pbmc, file = output_file)"
   ]
  },
  {
   "cell_type": "markdown",
   "id": "faa461aa-cacd-41b6-8f69-5518dd3f321f",
   "metadata": {},
   "source": [
    "# Finding differentially expressed features (cluster biomarkers)\n",
    "\n",
    "Seurat can help you find markers that define clusters via differential expression. By default, it identifies positive and negative markers of a single cluster (specified in `ident.1`), compared to all other cells. [FindAllMarkers()](https://satijalab.org/seurat/reference/FindAllMarkers.html) automates this process for all clusters, but you can also test groups of clusters vs. each other, or against all cells.\n",
    "\n",
    "The `min.pct` argument requires a feature to be detected at a minimum percentage in either of the two groups of cells, and the thresh.test argument requires a feature to be differentially expressed (on average) by some amount between the two groups. You can set both of these to 0, but with a dramatic increase in time - since this will test a large number of features that are unlikely to be highly discriminatory. As another option to speed up these computations, `max.cells.per.ident` can be set. This will downsample each identity class to have no more cells than whatever this is set to. While there is generally going to be a loss in power, the speed increases can be significant and the most highly differentially expressed features will likely still rise to the top."
   ]
  },
  {
   "cell_type": "code",
   "execution_count": null,
   "id": "5cdec560-2be8-43b7-a89f-7a829acc2340",
   "metadata": {},
   "outputs": [],
   "source": [
    "# find all markers of cluster 2\n",
    "cluster2.markers <- FindMarkers(pbmc, ident.1 = 2, min.pct = 0.25)\n",
    "head(cluster2.markers, n = 5)"
   ]
  },
  {
   "cell_type": "code",
   "execution_count": null,
   "id": "9703ffd6-da8a-46cd-9f7a-5c88f7219fa8",
   "metadata": {},
   "outputs": [],
   "source": [
    "# find all markers distinguishing cluster 5 from clusters 0 and 3\n",
    "cluster5.markers <- FindMarkers(pbmc, ident.1 = 5, ident.2 = c(0, 3), min.pct = 0.25)\n",
    "head(cluster5.markers, n = 5)"
   ]
  },
  {
   "cell_type": "code",
   "execution_count": null,
   "id": "7f5ce97a-23cd-4d01-8c14-2514e4df6a65",
   "metadata": {},
   "outputs": [],
   "source": [
    "# find markers for every cluster compared to all remaining cells, report only the positive\n",
    "# ones\n",
    "pbmc.markers <- FindAllMarkers(pbmc, only.pos = TRUE, min.pct = 0.25, logfc.threshold = 0.25)\n",
    "pbmc.markers %>%\n",
    "    group_by(cluster) %>%\n",
    "    slice_max(n = 2, order_by = avg_log2FC)"
   ]
  },
  {
   "cell_type": "markdown",
   "id": "9971e382-4d24-49c9-9785-889f0e7a7313",
   "metadata": {},
   "source": [
    "Seurat has several tests for differential expression which can be set with the test.use parameter (see our DE vignette for details). For example, the ROC test returns the ‘classification power’ for any individual marker (ranging from 0 - random, to 1 - perfect)."
   ]
  },
  {
   "cell_type": "code",
   "execution_count": null,
   "id": "ecb344f9-4602-4cee-b472-8454d0e96798",
   "metadata": {},
   "outputs": [],
   "source": [
    "cluster0.markers <- FindMarkers(pbmc, ident.1 = 0, logfc.threshold = 0.25, test.use = \"roc\", only.pos = TRUE)"
   ]
  },
  {
   "cell_type": "markdown",
   "id": "4f2e0b1a-f04b-4ad3-b165-17324c60e35b",
   "metadata": {},
   "source": [
    "We include several tools for visualizing marker expression. [VlnPlot()](https://satijalab.org/seurat/reference/VlnPlot.html) (shows expression probability distributions across clusters), and [FeaturePlot()](https://satijalab.org/seurat/reference/FeaturePlot.html) (visualizes feature expression on a tSNE or PCA plot) are our most commonly used visualizations. We also suggest exploring [RidgePlot()](https://satijalab.org/seurat/reference/RidgePlot.html), [CellScatter()](https://satijalab.org/seurat/reference/CellScatter.html), and [DotPlot()](https://satijalab.org/seurat/reference/DotPlot.html) as additional methods to view your dataset."
   ]
  },
  {
   "cell_type": "code",
   "execution_count": null,
   "id": "f09a793e-7596-4988-b362-09904bf75d05",
   "metadata": {},
   "outputs": [],
   "source": [
    "VlnPlot(pbmc, features = c(\"MS4A1\", \"CD79A\"))"
   ]
  },
  {
   "cell_type": "code",
   "execution_count": null,
   "id": "41d627f1-48ab-4459-8a6c-4c0dd075fcd4",
   "metadata": {},
   "outputs": [],
   "source": [
    "# you can plot raw counts as well\n",
    "VlnPlot(pbmc, features = c(\"NKG7\", \"PF4\"), slot = \"counts\", log = TRUE)"
   ]
  },
  {
   "cell_type": "code",
   "execution_count": null,
   "id": "4fc840b5-c1a8-4ce8-9f83-fbeb67ab68a8",
   "metadata": {},
   "outputs": [],
   "source": [
    "FeaturePlot(pbmc, features = c(\"MS4A1\", \"GNLY\", \"CD3E\", \"CD14\", \"FCER1A\", \"FCGR3A\", \"LYZ\", \"PPBP\",\n",
    "    \"CD8A\"))"
   ]
  },
  {
   "cell_type": "markdown",
   "id": "23da1e87-9cc8-4d20-8e83-55252279c4d5",
   "metadata": {},
   "source": [
    "[DoHeatmap()](https://satijalab.org/seurat/reference/DoHeatmap.html) generates an expression heatmap for given cells and features. In this case, we are plotting the top 20 markers (or all markers if less than 20) for each cluster."
   ]
  },
  {
   "cell_type": "code",
   "execution_count": null,
   "id": "f16735ff-7d44-4eea-b346-b2e60395245a",
   "metadata": {},
   "outputs": [],
   "source": [
    "pbmc.markers %>%\n",
    "    group_by(cluster) %>%\n",
    "    top_n(n = 10, wt = avg_log2FC) -> top10\n",
    "DoHeatmap(pbmc, features = top10$gene) + NoLegend()"
   ]
  },
  {
   "cell_type": "markdown",
   "id": "d80f65ee-b339-4423-91e9-eba386d40ca3",
   "metadata": {},
   "source": [
    "# Assigning cell type identity to clusters\n",
    "\n",
    "Fortunately in the case of this dataset, we can use canonical markers to easily match the unbiased clustering to known cell types:\n",
    "\n",
    "|ClusterID |  Markers |  Cell Type | \n",
    "| --- | --- | --- |\n",
    "|     0 | IL7R, CCR7 | Naive CD4+ T|\n",
    "|1 | CD14, LYZ | CD14+ Mono\n",
    "|2 | IL7R, S100A4 | Memory CD4+\n",
    "|3 | MS4A1 | B\n",
    "|4 | CD8A | CD8+ T\n",
    "|5 | FCGR3A, MS4A7 | FCGR3A+ Mono\n",
    "|6 | GNLY, NKG7 | NK\n",
    "|7 | FCER1A, CST3 | DC\n",
    "|8 | PPBP | Platelet"
   ]
  },
  {
   "cell_type": "code",
   "execution_count": null,
   "id": "d60645dd-09b9-4e27-8107-71d4ab63343b",
   "metadata": {},
   "outputs": [],
   "source": [
    "new.cluster.ids <- c(\"Naive CD4 T\", \"CD14+ Mono\", \"Memory CD4 T\", \"B\", \"CD8 T\", \"FCGR3A+ Mono\",\n",
    "    \"NK\", \"DC\", \"Platelet\")\n",
    "names(new.cluster.ids) <- levels(pbmc)\n",
    "pbmc <- RenameIdents(pbmc, new.cluster.ids)\n",
    "DimPlot(pbmc, reduction = \"umap\", label = TRUE, pt.size = 0.5) + NoLegend()"
   ]
  },
  {
   "cell_type": "code",
   "execution_count": null,
   "id": "3505a17e-e744-4705-b6f5-dbf1607ec59a",
   "metadata": {},
   "outputs": [],
   "source": [
    "final_output_file <- sprintf(\"%s/seurat_pbmc3k_final.rds\", output_folder)\n",
    "saveRDS(pbmc, file = final_output_file)"
   ]
  },
  {
   "cell_type": "markdown",
   "id": "35dfcb3b-3a27-4b9a-90d9-9673f5107f43",
   "metadata": {},
   "source": [
    "Session Info"
   ]
  },
  {
   "cell_type": "code",
   "execution_count": null,
   "id": "8ab1c454-8684-4273-9f6f-f246ab9368d1",
   "metadata": {},
   "outputs": [],
   "source": [
    "sessionInfo()"
   ]
  }
 ],
 "metadata": {
  "kernelspec": {
   "display_name": "R",
   "language": "R",
   "name": "ir"
  },
  "language_info": {
   "codemirror_mode": "r",
   "file_extension": ".r",
   "mimetype": "text/x-r-source",
   "name": "R",
   "pygments_lexer": "r",
   "version": "4.1.3"
  }
 },
 "nbformat": 4,
 "nbformat_minor": 5
}
