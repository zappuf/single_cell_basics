{
 "cells": [
  {
   "cell_type": "markdown",
   "id": "a5937ad0-a7b0-4971-b7ca-a438b6cad0a6",
   "metadata": {},
   "source": [
    "# [Using Seurat with multimodal data](https://satijalab.org/seurat/articles/multimodal_vignette.html)"
   ]
  },
  {
   "cell_type": "markdown",
   "id": "f5c4762e-4ebe-41e6-829d-f37679541463",
   "metadata": {},
   "source": [
    "### Load in the data"
   ]
  },
  {
   "cell_type": "code",
   "execution_count": null,
   "id": "ea84dbbc-4283-4f13-b9e7-468e7c6c28c6",
   "metadata": {},
   "outputs": [],
   "source": [
    "library(Seurat)\n",
    "library(ggplot2)\n",
    "library(patchwork)"
   ]
  },
  {
   "cell_type": "code",
   "execution_count": null,
   "id": "2e0a3ec4-b272-47ba-84ff-4e0ec0d2f521",
   "metadata": {},
   "outputs": [],
   "source": [
    "# Load in the RNA UMI matrix\n",
    "\n",
    "# Note that this dataset also contains ~5% of mouse cells, which we can use as negative\n",
    "# controls for the protein measurements. For this reason, the gene expression matrix has\n",
    "# HUMAN_ or MOUSE_ appended to the beginning of each gene.\n",
    "cbmc.rna <- as.sparse(read.csv(file = \"../data/GSE100866_CBMC_8K_13AB_10X-RNA_umi.csv.gz\", sep = \",\",\n",
    "    header = TRUE, row.names = 1))\n",
    "\n",
    "# To make life a bit easier going forward, we're going to discard all but the top 100 most\n",
    "# highly expressed mouse genes, and remove the 'HUMAN_' from the CITE-seq prefix\n",
    "cbmc.rna <- CollapseSpeciesExpressionMatrix(cbmc.rna)\n",
    "\n",
    "# Load in the ADT UMI matrix\n",
    "cbmc.adt <- as.sparse(read.csv(file = \"../data/GSE100866_CBMC_8K_13AB_10X-ADT_umi.csv.gz\", sep = \",\",\n",
    "    header = TRUE, row.names = 1))\n",
    "\n",
    "# Note that since measurements were made in the same cells, the two matrices have identical\n",
    "# column names\n",
    "all.equal(colnames(cbmc.rna), colnames(cbmc.adt))"
   ]
  },
  {
   "cell_type": "markdown",
   "id": "de836be8-8558-4022-a038-49b9c9815c5b",
   "metadata": {},
   "source": [
    "### Setup a Seurat object, add the RNA and protein data"
   ]
  },
  {
   "cell_type": "markdown",
   "id": "e5294851-6c69-493c-a163-d2bf97b277ae",
   "metadata": {},
   "source": [
    "Now we create a Seurat object, and add the ADT data as a second assay"
   ]
  },
  {
   "cell_type": "code",
   "execution_count": null,
   "id": "8fc1adca-73f0-4448-a447-bcffdc187e6a",
   "metadata": {},
   "outputs": [],
   "source": [
    "# creates a Seurat object based on the scRNA-seq data\n",
    "cbmc <- CreateSeuratObject(counts = cbmc.rna)\n",
    "\n",
    "# We can see that by default, the cbmc object contains an assay storing RNA measurement\n",
    "Assays(cbmc)"
   ]
  },
  {
   "cell_type": "code",
   "execution_count": null,
   "id": "7d835772-7059-40a6-9606-0a1a2547e141",
   "metadata": {},
   "outputs": [],
   "source": [
    "# create a new assay to store ADT information\n",
    "adt_assay <- CreateAssayObject(counts = cbmc.adt)\n",
    "\n",
    "# add this assay to the previously created Seurat object\n",
    "cbmc[[\"ADT\"]] <- adt_assay\n",
    "\n",
    "# Validate that the object now contains multiple assays\n",
    "Assays(cbmc)"
   ]
  },
  {
   "cell_type": "code",
   "execution_count": null,
   "id": "387189ab-85af-494f-8b40-14edb93334ec",
   "metadata": {},
   "outputs": [],
   "source": [
    "# Extract a list of features measured in the ADT assay\n",
    "rownames(cbmc[[\"ADT\"]])"
   ]
  },
  {
   "cell_type": "code",
   "execution_count": null,
   "id": "789968d4-7ae6-48c9-8de9-1a20b359a02c",
   "metadata": {},
   "outputs": [],
   "source": [
    "# Note that we can easily switch back and forth between the two assays to specify the default\n",
    "# for visualization and analysis\n",
    "\n",
    "# List the current default assay\n",
    "DefaultAssay(cbmc)"
   ]
  },
  {
   "cell_type": "code",
   "execution_count": null,
   "id": "9729ce86-6fea-4009-af48-8be63bc5376f",
   "metadata": {},
   "outputs": [],
   "source": [
    "# Switch the default to ADT\n",
    "DefaultAssay(cbmc) <- \"ADT\"\n",
    "DefaultAssay(cbmc)"
   ]
  },
  {
   "cell_type": "markdown",
   "id": "3b80eae6-41fa-4516-b2b4-2febe6be6c2d",
   "metadata": {},
   "source": [
    "### Cluster cells on the basis of their scRNA-seq profiles"
   ]
  },
  {
   "cell_type": "markdown",
   "id": "936071d3-0c55-4301-bfb3-d012678f9a8d",
   "metadata": {},
   "source": [
    "The steps below represent a quick clustering of the PBMCs based on the scRNA-seq data. For more detail on individual steps or more advanced options, see the [PBMC clustering guided tutorial](seurat_pbmc3k.ipynb)."
   ]
  },
  {
   "cell_type": "code",
   "execution_count": null,
   "id": "ec925b48-2391-4de5-a1de-4d07b96ea119",
   "metadata": {},
   "outputs": [],
   "source": [
    "# Note that all operations below are performed on the RNA assay Set and verify that the\n",
    "# default assay is RNA\n",
    "DefaultAssay(cbmc) <- \"RNA\"\n",
    "DefaultAssay(cbmc)"
   ]
  },
  {
   "cell_type": "code",
   "execution_count": null,
   "id": "058effba-6128-4f5e-b188-cfcd4c4db5e8",
   "metadata": {},
   "outputs": [],
   "source": [
    "# perform visualization and clustering steps\n",
    "cbmc <- NormalizeData(cbmc)\n",
    "cbmc <- FindVariableFeatures(cbmc)\n",
    "cbmc <- ScaleData(cbmc)\n",
    "cbmc <- RunPCA(cbmc, verbose = FALSE)\n",
    "cbmc <- FindNeighbors(cbmc, dims = 1:30)\n",
    "cbmc <- FindClusters(cbmc, resolution = 0.8, verbose = FALSE)\n",
    "cbmc <- RunUMAP(cbmc, dims = 1:30)\n",
    "DimPlot(cbmc, label = TRUE)"
   ]
  },
  {
   "cell_type": "markdown",
   "id": "56db9366-33ff-445d-8bdd-39e7513f6d18",
   "metadata": {},
   "source": [
    "### Visualize multiple modalities side-by-side"
   ]
  },
  {
   "cell_type": "markdown",
   "id": "8709c4f6-9f9d-46b8-8f21-569017bc9109",
   "metadata": {},
   "source": [
    "Now that we have obtained clusters from scRNA-seq profiles, we can visualize the expression of either protein or RNA molecules in our dataset. Importantly, Seurat provides a couple ways to switch between modalities, and specify which modality you are interested in analyzing or visualizing. This is particularly important as, in some cases, the same feature can be present in multiple modalities - for example this dataset contains independent measurements of the B cell marker CD19 (both protein and RNA levels)."
   ]
  },
  {
   "cell_type": "code",
   "execution_count": null,
   "id": "9c6a9b25-76de-452c-9865-bce21a52449c",
   "metadata": {},
   "outputs": [],
   "source": [
    "# Normalize ADT data,\n",
    "DefaultAssay(cbmc) <- \"ADT\"\n",
    "cbmc <- NormalizeData(cbmc, normalization.method = \"CLR\", margin = 2)\n",
    "DefaultAssay(cbmc) <- \"RNA\"\n",
    "\n",
    "# Note that the following command is an alternative but returns the same result\n",
    "cbmc <- NormalizeData(cbmc, normalization.method = \"CLR\", margin = 2, assay = \"ADT\")\n",
    "\n",
    "# Now, we will visualize CD14 levels for RNA and protein By setting the default assay, we can\n",
    "# visualize one or the other\n",
    "DefaultAssay(cbmc) <- \"ADT\"\n",
    "p1 <- FeaturePlot(cbmc, \"CD19\", cols = c(\"lightgrey\", \"darkgreen\")) + ggtitle(\"CD19 protein\")\n",
    "DefaultAssay(cbmc) <- \"RNA\"\n",
    "p2 <- FeaturePlot(cbmc, \"CD19\") + ggtitle(\"CD19 RNA\")\n",
    "\n",
    "# place plots side-by-side\n",
    "p1 | p2"
   ]
  },
  {
   "cell_type": "code",
   "execution_count": null,
   "id": "796a2d3c-2832-4beb-926d-67bbbcdeb14b",
   "metadata": {},
   "outputs": [],
   "source": [
    "# Alternately, we can use specific assay keys to specify a specific modality Identify the key\n",
    "# for the RNA and protein assays\n",
    "Key(cbmc[[\"RNA\"]])"
   ]
  },
  {
   "cell_type": "code",
   "execution_count": null,
   "id": "ea2f4afa-f934-4824-9b53-291a485b6487",
   "metadata": {},
   "outputs": [],
   "source": [
    "Key(cbmc[[\"ADT\"]])"
   ]
  },
  {
   "cell_type": "code",
   "execution_count": null,
   "id": "b4fce899-2d07-4d05-97b2-0fa09e8d0952",
   "metadata": {},
   "outputs": [],
   "source": [
    "# Now, we can include the key in the feature name, which overrides the default assay\n",
    "p1 <- FeaturePlot(cbmc, \"adt_CD19\", cols = c(\"lightgrey\", \"darkgreen\")) + ggtitle(\"CD19 protein\")\n",
    "p2 <- FeaturePlot(cbmc, \"rna_CD19\") + ggtitle(\"CD19 RNA\")\n",
    "p1 | p2"
   ]
  },
  {
   "cell_type": "markdown",
   "id": "e5b3a976-1861-45b3-aefa-d587326e016d",
   "metadata": {},
   "source": [
    "### Identify cell surface markers for scRNA-seq clusters"
   ]
  },
  {
   "cell_type": "markdown",
   "id": "eee58817-9dd3-4dad-8915-85cf41ce95a8",
   "metadata": {},
   "source": [
    "We can leverage our paired CITE-seq measurements to help annotate clusters derived from scRNA-seq, and to identify both protein and RNA markers."
   ]
  },
  {
   "cell_type": "code",
   "execution_count": null,
   "id": "210a1e5e-dc78-431f-a5cb-0587f7bfb786",
   "metadata": {},
   "outputs": [],
   "source": [
    "# as we know that CD19 is a B cell marker, we can identify cluster 6 as expressing CD19 on the\n",
    "# surface\n",
    "VlnPlot(cbmc, \"adt_CD19\")"
   ]
  },
  {
   "cell_type": "code",
   "execution_count": null,
   "id": "98ee0868-ac7b-4383-8aa9-790a63e271ba",
   "metadata": {},
   "outputs": [],
   "source": [
    "# we can also identify alternative protein and RNA markers for this cluster through\n",
    "# differential expression\n",
    "adt_markers <- FindMarkers(cbmc, ident.1 = 6, assay = \"ADT\")\n",
    "rna_markers <- FindMarkers(cbmc, ident.1 = 6, assay = \"RNA\")\n",
    "\n",
    "head(adt_markers)"
   ]
  },
  {
   "cell_type": "code",
   "execution_count": null,
   "id": "2f1c93bb-5cfb-4167-a23b-7231e48b2abf",
   "metadata": {},
   "outputs": [],
   "source": [
    "head(rna_markers)"
   ]
  },
  {
   "cell_type": "markdown",
   "id": "5c849fad-5cf0-4d30-a0f6-73430419f117",
   "metadata": {},
   "source": [
    "### Additional visualizations of multimodal data"
   ]
  },
  {
   "cell_type": "code",
   "execution_count": null,
   "id": "038c4719-ff5b-4a29-8ae7-cc41d930563d",
   "metadata": {},
   "outputs": [],
   "source": [
    "# Draw ADT scatter plots (like biaxial plots for FACS). Note that you can even 'gate' cells if\n",
    "# desired by using HoverLocator and FeatureLocator\n",
    "FeatureScatter(cbmc, feature1 = \"adt_CD19\", feature2 = \"adt_CD3\")"
   ]
  },
  {
   "cell_type": "code",
   "execution_count": null,
   "id": "475ed036-433c-4914-90f6-3c15a213ae9d",
   "metadata": {},
   "outputs": [],
   "source": [
    "# view relationship between protein and RNA\n",
    "FeatureScatter(cbmc, feature1 = \"adt_CD3\", feature2 = \"rna_CD3E\")"
   ]
  },
  {
   "cell_type": "code",
   "execution_count": null,
   "id": "542a7c94-07c7-4fa0-b2f9-edc1b2a65a31",
   "metadata": {},
   "outputs": [],
   "source": [
    "FeatureScatter(cbmc, feature1 = \"adt_CD4\", feature2 = \"adt_CD8\")"
   ]
  },
  {
   "cell_type": "code",
   "execution_count": null,
   "id": "67745758-dfe5-4f3a-a12b-d72812e0ceb6",
   "metadata": {},
   "outputs": [],
   "source": [
    "# Let's look at the raw (non-normalized) ADT counts. You can see the values are quite high,\n",
    "# particularly in comparison to RNA values. This is due to the significantly higher protein\n",
    "# copy number in cells, which significantly reduces 'drop-out' in ADT data\n",
    "FeatureScatter(cbmc, feature1 = \"adt_CD4\", feature2 = \"adt_CD8\", slot = \"counts\")"
   ]
  },
  {
   "cell_type": "markdown",
   "id": "29cc455d-529f-4336-aa46-c55e6489b295",
   "metadata": {},
   "source": [
    "### Loading data from 10X multi-modal experiments"
   ]
  },
  {
   "cell_type": "markdown",
   "id": "2c49fa9a-7a24-48c6-a1bb-c95f8eea05a2",
   "metadata": {},
   "source": [
    "Seurat is also able to analyze data from multimodal 10X experiments processed using CellRanger v3; as an example, we recreate the plots above using a dataset of 7,900 peripheral blood mononuclear cells (PBMC)."
   ]
  },
  {
   "cell_type": "code",
   "execution_count": null,
   "id": "62ff17f0-bc71-4923-bf76-369ffab3d020",
   "metadata": {},
   "outputs": [],
   "source": [
    "pbmc10k.data <- Read10X(data.dir = \"../data/filtered_feature_bc_matrix/\")\n",
    "rownames(x = pbmc10k.data[[\"Antibody Capture\"]]) <- gsub(pattern = \"_[control_]*TotalSeqB\", replacement = \"\",\n",
    "    x = rownames(x = pbmc10k.data[[\"Antibody Capture\"]]))\n",
    "\n",
    "pbmc10k <- CreateSeuratObject(counts = pbmc10k.data[[\"Gene Expression\"]], min.cells = 3, min.features = 200)\n",
    "pbmc10k <- NormalizeData(pbmc10k)\n",
    "pbmc10k[[\"ADT\"]] <- CreateAssayObject(pbmc10k.data[[\"Antibody Capture\"]][, colnames(x = pbmc10k)])\n",
    "pbmc10k <- NormalizeData(pbmc10k, assay = \"ADT\", normalization.method = \"CLR\")\n",
    "\n",
    "plot1 <- FeatureScatter(pbmc10k, feature1 = \"adt_CD19\", feature2 = \"adt_CD3\", pt.size = 1)\n",
    "plot2 <- FeatureScatter(pbmc10k, feature1 = \"adt_CD4\", feature2 = \"adt_CD8a\", pt.size = 1)\n",
    "plot3 <- FeatureScatter(pbmc10k, feature1 = \"adt_CD3\", feature2 = \"CD3E\", pt.size = 1)\n",
    "(plot1 + plot2 + plot3) & NoLegend()"
   ]
  },
  {
   "cell_type": "markdown",
   "id": "a411ead5-ff44-48fb-b19a-d98946851dd5",
   "metadata": {},
   "source": [
    "#### Session Info"
   ]
  },
  {
   "cell_type": "code",
   "execution_count": null,
   "id": "a9c09382-af01-4b9f-82ad-134005b05407",
   "metadata": {},
   "outputs": [],
   "source": [
    "sessionInfo()"
   ]
  }
 ],
 "metadata": {
  "kernelspec": {
   "display_name": "R",
   "language": "R",
   "name": "ir"
  },
  "language_info": {
   "codemirror_mode": "r",
   "file_extension": ".r",
   "mimetype": "text/x-r-source",
   "name": "R",
   "pygments_lexer": "r",
   "version": "4.1.3"
  }
 },
 "nbformat": 4,
 "nbformat_minor": 5
}
